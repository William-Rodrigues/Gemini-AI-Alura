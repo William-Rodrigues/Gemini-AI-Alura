{
  "nbformat": 4,
  "nbformat_minor": 0,
  "metadata": {
    "colab": {
      "provenance": [],
      "toc_visible": true,
      "authorship_tag": "ABX9TyMo7mgAkjX4qVKW1cXNYYSk",
      "include_colab_link": true
    },
    "kernelspec": {
      "name": "python3",
      "display_name": "Python 3"
    },
    "language_info": {
      "name": "python"
    }
  },
  "cells": [
    {
      "cell_type": "markdown",
      "metadata": {
        "id": "view-in-github",
        "colab_type": "text"
      },
      "source": [
        "<a href=\"https://colab.research.google.com/github/William-Rodrigues/Gemini-AI-Alura/blob/main/Aula_4.ipynb\" target=\"_parent\"><img src=\"https://colab.research.google.com/assets/colab-badge.svg\" alt=\"Open In Colab\"/></a>"
      ]
    },
    {
      "cell_type": "code",
      "execution_count": null,
      "metadata": {
        "id": "J6Pd9SFJ1yVi"
      },
      "outputs": [],
      "source": [
        "!pip install -q -U google-generativeai"
      ]
    },
    {
      "cell_type": "code",
      "source": [
        "# Import the Python SDK\n",
        "import google.generativeai as genai\n",
        "# Used to securely store your API key\n",
        "from google.colab import userdata\n",
        "\n",
        "GOOGLE_API_KEY=\"YOUR_API_KEY\"\n",
        "genai.configure(api_key=GOOGLE_API_KEY)"
      ],
      "metadata": {
        "id": "paiogYjiV2la"
      },
      "execution_count": null,
      "outputs": []
    },
    {
      "cell_type": "markdown",
      "source": [
        "\n",
        "\n",
        "*   Listar os modelos disponíveis\n",
        "\n"
      ],
      "metadata": {
        "id": "VRzwqTzvWJq4"
      }
    },
    {
      "cell_type": "code",
      "source": [
        "for m in genai.list_models():\n",
        "    if 'generateContent' in m.supported_generation_methods:\n",
        "        print(m.name)"
      ],
      "metadata": {
        "colab": {
          "base_uri": "https://localhost:8080/",
          "height": 142
        },
        "id": "9w-EYThVWFa7",
        "outputId": "a394225b-7d64-40b2-8c9d-1aaac6c039a0"
      },
      "execution_count": null,
      "outputs": [
        {
          "output_type": "stream",
          "name": "stdout",
          "text": [
            "models/gemini-1.0-pro\n",
            "models/gemini-1.0-pro-001\n",
            "models/gemini-1.0-pro-latest\n",
            "models/gemini-1.0-pro-vision-latest\n",
            "models/gemini-1.5-pro-latest\n",
            "models/gemini-pro\n",
            "models/gemini-pro-vision\n"
          ]
        }
      ]
    },
    {
      "cell_type": "code",
      "source": [
        "generation_config = {\n",
        "    \"candidate_count\": 1,\n",
        "    \"temperature\": 0.5,\n",
        "}"
      ],
      "metadata": {
        "id": "h0dGdS2gYSVN"
      },
      "execution_count": null,
      "outputs": []
    },
    {
      "cell_type": "code",
      "source": [
        "safety_settings = {\n",
        "    \"HARASSMENT\": \"BLOCK_NONE\",\n",
        "    \"SEXUAL\": \"BLOCK_NONE\",\n",
        "    \"DANGEROUS\": \"BLOCK_NONE\",\n",
        "    \"HATE\": \"BLOCK_NONE\"\n",
        "}"
      ],
      "metadata": {
        "id": "rxC0bVFb2gwf"
      },
      "execution_count": null,
      "outputs": []
    },
    {
      "cell_type": "code",
      "source": [
        "model = genai.GenerativeModel(model_name=\"gemini-1.0-pro\",\n",
        "                              generation_config=generation_config,\n",
        "                              safety_settings=safety_settings)"
      ],
      "metadata": {
        "id": "Fk9sbn2820CT"
      },
      "execution_count": null,
      "outputs": []
    },
    {
      "cell_type": "code",
      "source": [
        "response = model.generate_content(\"Vamos aprender conteúdo sobre IA, me de sugestões.\")\n",
        "print(response.text)"
      ],
      "metadata": {
        "colab": {
          "base_uri": "https://localhost:8080/",
          "height": 571
        },
        "id": "m9O4irHb7qBc",
        "outputId": "acd680a5-449f-4850-d318-ad682bad4633"
      },
      "execution_count": null,
      "outputs": [
        {
          "output_type": "stream",
          "name": "stdout",
          "text": [
            "**Recursos Online**\n",
            "\n",
            "* **Coursera:** Cursos gratuitos e pagos sobre IA, aprendizado de máquina e ciência de dados\n",
            "* **edX:** Cursos online de universidades e organizações líderes sobre IA e tópicos relacionados\n",
            "* **MIT OpenCourseWare:** Aulas e materiais de cursos de IA do Massachusetts Institute of Technology\n",
            "* **Stanford Online:** Cursos online de IA e aprendizado de máquina da Universidade de Stanford\n",
            "* **Kaggle:** Plataforma de aprendizado de máquina e ciência de dados com tutoriais, competições e conjuntos de dados\n",
            "\n",
            "**Livros**\n",
            "\n",
            "* **Inteligência Artificial: Uma Abordagem Moderna (3ª edição)** por Stuart Russell e Peter Norvig\n",
            "* **Aprendizado de Máquina** por Tom Mitchell\n",
            "* **Deep Learning** por Ian Goodfellow, Yoshua Bengio e Aaron Courville\n",
            "* **Inteligência Artificial: Fundamentos e Aplicações** por Rajendra Akerkar\n",
            "* **Inteligência Artificial para Leigos** por John Paul Mueller e Luca Massaron\n",
            "\n",
            "**Artigos e Blogs**\n",
            "\n",
            "* **MIT Technology Review:** Artigos sobre as últimas tendências e pesquisas em IA\n",
            "* **Wired:** Reportagens sobre IA e seu impacto na sociedade\n",
            "* **The Verge:** Notícias e análises sobre IA e tecnologia\n",
            "* **VentureBeat:** Cobertura de startups, investimentos e inovações em IA\n",
            "* **Towards Data Science:** Artigos e tutoriais sobre ciência de dados, aprendizado de máquina e IA\n",
            "\n",
            "**Vídeos e Podcasts**\n",
            "\n",
            "* **Canal do YouTube do Google AI:** Vídeos sobre pesquisas e aplicações de IA\n",
            "* **Podcast do MIT AI Podcast:** Entrevistas com especialistas em IA e discussões sobre tópicos atuais\n",
            "* **Podcast do TWIML AI Podcast:** Notícias, entrevistas e análises sobre IA e aprendizado de máquina\n",
            "* **Podcast do DataFramed:** Discussões sobre ciência de dados, aprendizado de máquina e IA\n",
            "* **Podcast do Lex Fridman Podcast:** Entrevistas com cientistas, engenheiros e filósofos sobre IA e seus impactos\n"
          ]
        }
      ]
    },
    {
      "cell_type": "code",
      "source": [
        "chat = model.start_chat(history=[])\n",
        "chat.send_message(\"Vamos aprender conteúdo sobre IA, me de sugestões.\")"
      ],
      "metadata": {
        "colab": {
          "base_uri": "https://localhost:8080/",
          "height": 321
        },
        "id": "hhD7M4Go72st",
        "outputId": "b0f8abfa-fb26-429f-f85c-6c1e29f9c658"
      },
      "execution_count": null,
      "outputs": [
        {
          "output_type": "execute_result",
          "data": {
            "text/plain": [
              "response:\n",
              "GenerateContentResponse(\n",
              "    done=True,\n",
              "    iterator=None,\n",
              "    result=glm.GenerateContentResponse({'candidates': [{'content': {'parts': [{'text': '**Cursos Online:**\\n\\n* **Coursera:**\\n    * Aprendizado de Máquina\\n    * Inteligência Artificial\\n    * Processamento de Linguagem Natural\\n* **edX:**\\n    * Inteligência Artificial (MIT)\\n    * Aprendizado de Máquina (Microsoft)\\n    * Visão Computacional (Caltech)\\n* **Udemy:**\\n    * Curso Completo de Inteligência Artificial\\n    * Aprendizado de Máquina e Inteligência Artificial\\n    * Ciência de Dados e Inteligência Artificial\\n\\n**Livros:**\\n\\n* **Inteligência Artificial: Uma Abordagem Moderna** (Stuart Russell e Peter Norvig)\\n* **Aprendizado de Máquina** (Tom Mitchell)\\n* **Processamento de Linguagem Natural** (Christopher Manning e Hinrich Schütze)\\n* **Visão Computacional** (David Forsyth e Jean Ponce)\\n* **IA para Todos** (Andrew Ng)\\n\\n**Artigos de Pesquisa:**\\n\\n* **AlphaGo: Dominando o Jogo Go com Aprendizado de Reforço Profundo** (David Silver et al.)\\n* **GPT-3: Treinamento de uma Linguagem Grande e Multimodal** (Tom Brown et al.)\\n* **DALL-E 2: Geração de Imagem a partir de Texto** (Aditya Ramesh et al.)\\n* **Ciência de Dados para Inteligência Artificial** (Pedro Domingos)\\n* **Ética na Inteligência Artificial** (Stuart Russell)\\n\\n**Palestras e Entrevistas:**\\n\\n* **Palestras do Google AI**\\n* **Palestras do Stanford AI Lab**\\n* **Entrevistas com especialistas em IA no Lex Fridman Podcast**\\n* **TED Talks sobre Inteligência Artificial**\\n\\n**Comunidades e Fóruns:**\\n\\n* **Reddit r/MachineLearning**\\n* **Stack Overflow - Inteligência Artificial**\\n* **Kaggle** (plataforma de competição de IA)\\n* **Meetup Groups** (grupos locais de IA)'}], 'role': 'model'}, 'finish_reason': 1, 'index': 0, 'safety_ratings': [{'category': 9, 'probability': 1, 'blocked': False}, {'category': 8, 'probability': 1, 'blocked': False}, {'category': 7, 'probability': 1, 'blocked': False}, {'category': 10, 'probability': 1, 'blocked': False}], 'token_count': 0, 'grounding_attributions': []}]}),\n",
              ")"
            ]
          },
          "metadata": {},
          "execution_count": 9
        }
      ]
    },
    {
      "cell_type": "code",
      "source": [
        "prompt = input(\"Esperando o prompt: \")\n",
        "\n",
        "while prompt != \"fim\":\n",
        "  response = chat.send_message(prompt)\n",
        "  print(\"Resposta: \", response.text, \"\\n\")\n",
        "  prompt = input(\"Esperando o prompt: \")"
      ],
      "metadata": {
        "colab": {
          "base_uri": "https://localhost:8080/",
          "height": 249
        },
        "id": "B7NXYdvf8QWc",
        "outputId": "811f9c77-062e-4dd7-ce04-65c676d36bc8"
      },
      "execution_count": null,
      "outputs": [
        {
          "name": "stdout",
          "output_type": "stream",
          "text": [
            "Esperando o prompt: Qual a capital do japão\n",
            "Resposta:  Tóquio \n",
            "\n",
            "Esperando o prompt: Qual é a comida tipica desse pais?\n",
            "Resposta:  Sushi \n",
            "\n",
            "Esperando o prompt: O meu primo nasceu nessa cidade, Qual é a nacionalidade dele?\n",
            "Resposta:  Japonesa \n",
            "\n",
            "Esperando o prompt: E qual é a população dessa cidade\n",
            "Resposta:  13.960.236 (2023) \n",
            "\n",
            "Esperando o prompt: fim\n"
          ]
        }
      ]
    }
  ]
}